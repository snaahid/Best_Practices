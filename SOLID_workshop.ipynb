{
  "nbformat": 4,
  "nbformat_minor": 0,
  "metadata": {
    "colab": {
      "provenance": [],
      "authorship_tag": "ABX9TyOp5hNk2jv7B6zR5xHgCZqB",
      "include_colab_link": true
    },
    "kernelspec": {
      "name": "python3",
      "display_name": "Python 3"
    },
    "language_info": {
      "name": "python"
    }
  },
  "cells": [
    {
      "cell_type": "markdown",
      "metadata": {
        "id": "view-in-github",
        "colab_type": "text"
      },
      "source": [
        "<a href=\"https://colab.research.google.com/github/snaahid/Best_Practices/blob/main/SOLID_workshop.ipynb\" target=\"_parent\"><img src=\"https://colab.research.google.com/assets/colab-badge.svg\" alt=\"Open In Colab\"/></a>"
      ]
    },
    {
      "cell_type": "markdown",
      "source": [
        "# **Workshop Use Case for SOLID Principles: E-commerce Application**\n",
        "The use case revolves around managing an e-commerce platform where users, products, orders, and notifications are handled.\n"
      ],
      "metadata": {
        "id": "1TnV5Hc9jUv8"
      }
    },
    {
      "cell_type": "markdown",
      "source": [
        "### **Single Responsibility Principle (SRP)**\n",
        "#### Every class should have only one responsibility, and a class should never have more than one reason to be changed."
      ],
      "metadata": {
        "id": "vsBBP46MmQAZ"
      }
    },
    {
      "cell_type": "code",
      "source": [
        "# Exercise: This code doesn't follow SRP, as it has 2 reponsibilities and any one changes the class changes\n",
        "class OrderManager:\n",
        "    def place_order(self, user, product, quantity):\n",
        "        print(f\"Order placed: {quantity} {product} for {user}\")\n",
        "        self.notify_user(user)\n",
        "\n",
        "    def notify_user(self, user):\n",
        "        print(f\"Notification sent to {user}\")"
      ],
      "metadata": {
        "id": "f69fKYC4j03P"
      },
      "execution_count": null,
      "outputs": []
    },
    {
      "cell_type": "code",
      "source": [
        "# Solution: Refactor code to separate order management and notifications.\n",
        "\n",
        "class OrderManager:\n",
        "    def place_order(self, user, product, quantity):\n",
        "        print(f\"Order placed: {quantity} {product} for {user}\")\n",
        "\n",
        "class NotificationService:\n",
        "    def notify_user(self, user):\n",
        "        print(f\"Notification sent to {user}\")\n",
        "\n",
        "order_manager = OrderManager()\n",
        "notifier = NotificationService()\n",
        "order_manager.place_order(\"Ali\", \"Laptop\", 1)\n",
        "notifier.notify_user(\"Ali\")"
      ],
      "metadata": {
        "colab": {
          "base_uri": "https://localhost:8080/"
        },
        "id": "JR6ZC7R6j82d",
        "outputId": "1e1829c5-9e82-4aa8-cdc7-96493f85852c"
      },
      "execution_count": null,
      "outputs": [
        {
          "output_type": "stream",
          "name": "stdout",
          "text": [
            "Order placed: 1 Laptop for Ali\n",
            "Notification sent to Ali\n"
          ]
        }
      ]
    },
    {
      "cell_type": "markdown",
      "source": [
        "### **Open/Closed Principle (OCP)**"
      ],
      "metadata": {
        "id": "WF9kT7XWqgT1"
      }
    },
    {
      "cell_type": "code",
      "source": [
        "class PaymentProcessor:\n",
        "    def process_payment(self, payment_method):\n",
        "        if payment_method == \"credit_card\":\n",
        "            print(\"Processing credit card payment\")\n",
        "        elif payment_method == \"paypal\":\n",
        "            print(\"Processing PayPal payment\")"
      ],
      "metadata": {
        "id": "ZgydGKpyqm0i"
      },
      "execution_count": null,
      "outputs": []
    }
  ]
}