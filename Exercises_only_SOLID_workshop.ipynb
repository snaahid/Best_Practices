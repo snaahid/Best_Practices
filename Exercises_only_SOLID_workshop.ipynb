{
  "nbformat": 4,
  "nbformat_minor": 0,
  "metadata": {
    "colab": {
      "provenance": [],
      "authorship_tag": "ABX9TyPxm6T2Cd6FOPwlcSAPbWVo",
      "include_colab_link": true
    },
    "kernelspec": {
      "name": "python3",
      "display_name": "Python 3"
    },
    "language_info": {
      "name": "python"
    }
  },
  "cells": [
    {
      "cell_type": "markdown",
      "metadata": {
        "id": "view-in-github",
        "colab_type": "text"
      },
      "source": [
        "<a href=\"https://colab.research.google.com/github/snaahid/Best_Practices/blob/main/Exercises_only_SOLID_workshop.ipynb\" target=\"_parent\"><img src=\"https://colab.research.google.com/assets/colab-badge.svg\" alt=\"Open In Colab\"/></a>"
      ]
    },
    {
      "cell_type": "markdown",
      "source": [
        "# **Workshop Use Case for SOLID Principles: E-commerce Application**\n",
        "The use case revolves around managing an e-commerce platform where users, products, orders, and notifications are handled.\n"
      ],
      "metadata": {
        "id": "1TnV5Hc9jUv8"
      }
    },
    {
      "cell_type": "markdown",
      "source": [
        "### **Single Responsibility Principle (SRP)**\n",
        "#### Every class should have only one responsibility, and a class should never have more than one reason to be changed."
      ],
      "metadata": {
        "id": "vsBBP46MmQAZ"
      }
    },
    {
      "cell_type": "code",
      "source": [
        "# Exercise: This code doesn't follow SRP, as it has 2 reponsibilities and any one changes the class changes\n",
        "\n",
        "class OrderManager:\n",
        "    def place_order(self, user, product, quantity):\n",
        "        print(f\"Order placed: {quantity} {product} for {user}\")\n",
        "        self.notify_user(user)\n",
        "\n",
        "    def notify_user(self, user):\n",
        "        print(f\"Notification sent to {user}\")"
      ],
      "metadata": {
        "id": "f69fKYC4j03P"
      },
      "execution_count": null,
      "outputs": []
    },
    {
      "cell_type": "code",
      "source": [
        "# Solution: Refactor code to separate order management and notifications.\n",
        "\n",
        "\n"
      ],
      "metadata": {
        "id": "JR6ZC7R6j82d"
      },
      "execution_count": 1,
      "outputs": []
    },
    {
      "cell_type": "markdown",
      "source": [
        "### **Open/Closed Principle (OCP)**"
      ],
      "metadata": {
        "id": "WF9kT7XWqgT1"
      }
    },
    {
      "cell_type": "code",
      "source": [
        "# Exercise: OCP is not applicable in this code as it is not open for extension and open for modification\n",
        "\n",
        "class PaymentProcessor:\n",
        "    def process_payment(self, payment_method):\n",
        "        if payment_method == \"credit_card\":\n",
        "            print(\"Processing credit card payment\")\n",
        "        elif payment_method == \"paypal\":\n",
        "            print(\"Processing PayPal payment\")"
      ],
      "metadata": {
        "id": "ZgydGKpyqm0i"
      },
      "execution_count": null,
      "outputs": []
    },
    {
      "cell_type": "code",
      "source": [
        "# Solution: Refactor code to make it open for extension but closed for modification.\n",
        "\n"
      ],
      "metadata": {
        "id": "tkhH_OzisCwG"
      },
      "execution_count": null,
      "outputs": []
    },
    {
      "cell_type": "markdown",
      "source": [
        "### **Liskov Substitution Principle (LSP)**"
      ],
      "metadata": {
        "id": "LOb9aeZNtMKi"
      }
    },
    {
      "cell_type": "code",
      "source": [
        "# Exercise: LSP is not applicable in this code as functions that use pointers or references to base classes must be able to use objects of derived classes\n",
        "\n",
        "class OrderManager:\n",
        "    def place_order(self, user, product, quantity):\n",
        "        print(f\"Order placed: {quantity} {product} for {user}\")\n",
        "\n",
        "class DiscountOrder(OrderManager):\n",
        "    def place_order(self, user, product, quantity):\n",
        "        print(\"Discounts are not regular orders.\")\n",
        "\n",
        "order_manager = OrderManager()\n",
        "discount_order = DiscountOrder()\n",
        "order_manager.place_order(\"Ali\", \"Laptop\", 1)\n",
        "discount_order.place_order(\"Bob\", \"Phone\", 2)\n"
      ],
      "metadata": {
        "colab": {
          "base_uri": "https://localhost:8080/"
        },
        "id": "8c4JprKstQwJ",
        "outputId": "2c4f5332-2564-47f3-ee7b-d4719ece93b8"
      },
      "execution_count": null,
      "outputs": [
        {
          "output_type": "stream",
          "name": "stdout",
          "text": [
            "Order placed: 1 Laptop for Ali\n",
            "Discounts are not regular orders.\n"
          ]
        }
      ]
    },
    {
      "cell_type": "code",
      "source": [
        "# Solution: Refactor the classes so that the `DiscountOrder` subclass adheres to LSP.\n",
        "\n"
      ],
      "metadata": {
        "id": "qrgjM6qdtUnI"
      },
      "execution_count": 1,
      "outputs": []
    },
    {
      "cell_type": "markdown",
      "source": [
        "### **Interface Segregation Principle (ISP)**"
      ],
      "metadata": {
        "id": "T1YMr_rMte0y"
      }
    },
    {
      "cell_type": "code",
      "source": [
        "# Exercise: ISP is not followed in this case as the derived class should never be forced to implement an interface that it doesn’t use, or derived class shouldn’t be forced to depend on methods they do not use.\n",
        "\n",
        "class NotificationService:\n",
        "    def send_email(self, user):\n",
        "        pass\n",
        "\n",
        "    def send_sms(self, user):\n",
        "        pass\n",
        "\n",
        "    def send_push(self, user):\n",
        "        pass\n",
        "\n",
        "class EmailNotifier(NotificationService):\n",
        "    def send_email(self, user):\n",
        "        print(f\"Email sent to {user}\")\n",
        "\n",
        "    def send_sms(self, user):\n",
        "        pass  # Not needed\n",
        "\n",
        "    def send_push(self, user):\n",
        "        pass  # Not needed\n"
      ],
      "metadata": {
        "id": "aXMLjMqctiBK"
      },
      "execution_count": null,
      "outputs": []
    },
    {
      "cell_type": "code",
      "source": [
        "# Solution: Refactor the interface and the notifier classes to align with ISP.\n",
        "\n"
      ],
      "metadata": {
        "id": "r2xp3IC7tlaA"
      },
      "execution_count": null,
      "outputs": []
    },
    {
      "cell_type": "markdown",
      "source": [
        "### **Dependency Inversion Principle (DIP)**"
      ],
      "metadata": {
        "id": "FVQgQ-3ftp1Y"
      }
    },
    {
      "cell_type": "code",
      "source": [
        "# Exercise: DIP is not followed in this case as the high-level module depends on low-level module.\n",
        "\n",
        "class EmailNotifier:\n",
        "    def send_email(self, user):\n",
        "        print(f\"Email sent to {user}\")\n",
        "\n",
        "class OrderManager:\n",
        "    def __init__(self):\n",
        "        self.notifier = EmailNotifier()\n",
        "\n",
        "    def place_order(self, user, product, quantity):\n",
        "        print(f\"Order placed: {quantity} {product} for {user}\")\n",
        "        self.notifier.send_email(user)\n"
      ],
      "metadata": {
        "id": "awGQBMyEtr1w"
      },
      "execution_count": null,
      "outputs": []
    },
    {
      "cell_type": "code",
      "source": [
        "# Solution: Refactor this code to follow DIP by introducing an abstraction for the notifier.\n",
        "\n"
      ],
      "metadata": {
        "id": "DUbMW8O5tuon"
      },
      "execution_count": null,
      "outputs": []
    },
    {
      "cell_type": "code",
      "source": [],
      "metadata": {
        "id": "6pK2pv1T4udg"
      },
      "execution_count": null,
      "outputs": []
    }
  ]
}